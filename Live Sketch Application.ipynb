{
 "cells": [
  {
   "cell_type": "code",
   "execution_count": 1,
   "id": "7644de83-6e10-4b30-8edd-2e64fa6a9b6f",
   "metadata": {},
   "outputs": [],
   "source": [
    "import cv2\n",
    "import numpy as np"
   ]
  },
  {
   "cell_type": "code",
   "execution_count": 2,
   "id": "c7100685-0018-44a9-9810-e2df826d499b",
   "metadata": {},
   "outputs": [],
   "source": [
    "def sketch(image):\n",
    "    # CONVERT IMG TO GRAYSCALE\n",
    "    image_gray = cv2.cvtColor(image, cv2.COLOR_BGR2GRAY)\n",
    "\n",
    "    # APPLY GAUSSIAN BLURRING TO REMOVE NOISE\n",
    "    image_gray_blur = cv2.GaussianBlur(image_gray, (5,5), 0)\n",
    "    \n",
    "    # EXTRACT EDGES VIA CANNY EDGE DETECTION METHOD\n",
    "    canny_gray_blur = cv2.Canny(image_gray_blur, 10, 70)\n",
    "\n",
    "    # APPLY BINARY INVERSE THRESHOLD\n",
    "    ret, thresh = cv2.threshold(canny_gray_blur, 70, 255, cv2.THRESH_BINARY)\n",
    "\n",
    "    return thresh"
   ]
  },
  {
   "cell_type": "code",
   "execution_count": 3,
   "id": "3d9d52bd-b4a2-4231-a2c2-516040d6ccbb",
   "metadata": {},
   "outputs": [],
   "source": [
    "cap = cv2.VideoCapture(0)"
   ]
  },
  {
   "cell_type": "code",
   "execution_count": 4,
   "id": "30f67b86-a97f-454b-9ddd-849ec2af162b",
   "metadata": {},
   "outputs": [],
   "source": [
    "while True:\n",
    "    ret, frame = cap.read()\n",
    "    cv2.imshow('Live Sketcher', sketch(frame))\n",
    "    if cv2.waitKey(1) == 27:\n",
    "        break\n",
    "\n",
    "cap.release()\n",
    "\n",
    "cv2.destroyAllWindows()"
   ]
  },
  {
   "cell_type": "code",
   "execution_count": null,
   "id": "1febb77f-96ec-455e-9f71-b60771e4e6ef",
   "metadata": {},
   "outputs": [],
   "source": []
  }
 ],
 "metadata": {
  "kernelspec": {
   "display_name": "Python 3 (ipykernel)",
   "language": "python",
   "name": "python3"
  },
  "language_info": {
   "codemirror_mode": {
    "name": "ipython",
    "version": 3
   },
   "file_extension": ".py",
   "mimetype": "text/x-python",
   "name": "python",
   "nbconvert_exporter": "python",
   "pygments_lexer": "ipython3",
   "version": "3.11.5"
  }
 },
 "nbformat": 4,
 "nbformat_minor": 5
}
